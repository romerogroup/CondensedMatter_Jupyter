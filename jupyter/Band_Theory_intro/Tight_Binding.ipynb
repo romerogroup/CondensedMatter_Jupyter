{
 "cells": [
  {
   "cell_type": "markdown",
   "metadata": {},
   "source": [
    "### Tight-Binding Model\n",
    "\n",
    "The tight-binding model aims to treat localization by making the assumption that electrons captured by ions in a periodic lattice will remain bound for a considerable time before tunneling or hopping to a neighboring ion. The assumption leads to the approximation that the electrons occupy atomic-like orbitals while bound. In order to apply the model, it is neccessary to understand the form of the tight-binding Hamiltonian. Considering a simple model for a single electron in a hydrogen molecule gives insight into building the model Hamiltonian and the atomic orbital basis in more general cases. In the approximation, the electron either occupties an s-like orbital centered on either hydrogen atom, or it is in the process of hopping from one to the other. Let $\\epsilon$ be the on site energy for occupying an s-like orbital on either hydrogen and $t$ be the hopping energy. Then the tight-binding Hamiltonian can be written as\n",
    "\n",
    "$$H = \\left[ \\begin{array}{cc} \\epsilon & -t\\\\ -t & \\epsilon \\end{array} \\right]$$\n",
    "\n",
    "obeying $H \\left| \\psi \\right\\rangle = E\\left| \\psi \\right\\rangle$ The energy levels and bonding atomic orbital basis can be found by diagonalization, where\n",
    "\n",
    "$$\\left| \\begin{array}{cc} \\epsilon - E & -t\\\\ -t & \\epsilon - E \\end{array} \\right| = 0$$\n",
    "\n",
    "has the characteristic polynomial $E^2 - 2\\epsilon E + (\\epsilon - t)^2 = 0.$ Thus the energy eigenvalues are $E = \\epsilon \\mp t$ with eigenvectors given by $\\left| \\psi \\right\\rangle = \\frac{1}{\\sqrt{2}} \\left( \\left| \\phi_1 \\right\\rangle \\pm \\left| \\phi_2 \\right\\rangle \\right)$. The lower energy corresponds to bonding, whereas the higher corresponds to anti-bonding. It can be seen from this example that an expansion in a linear combination of atomic orbitals (LCAO) satisfies a tight-binding Hamiltonian. The model can be generalized to a 1 dimensional lattice by extending to a chain of hydrogen atoms with the lattice constant given by $a$ with a periodic boundary. The single electron wavefunction can be expanded as before in using the LCAO as $$\\left| \\psi \\right\\rangle = \\frac{1}{\\sqrt{N}} \\sum_n e^{ikna}\\left| \\phi_n \\right\\rangle,$$ where the Bloch function enforces the periodicity. The dimer Hamiltonian can be generalized by restricting the electrons to hopping between nearest neighbors only. The on site energy $\\epsilon$ will again run down the diagonal, and the hopping term between nearest neighbors will form a tridiagonal matrix. This can be written explicitly as $$H = \\sum_n \\left( \\epsilon \\left| \\phi_n \\right\\rangle \\left\\langle \\phi_n \\right| -t\\left| \\phi_n \\right\\rangle \\left\\langle \\phi_{n+1} \\right| -t \\left| \\phi_n \\right\\rangle \\left\\langle \\phi_{n-1} \\right| \\right).$$ The energy band can be calculated by taking the expectation value. \n",
    "\n",
    "$$\\left\\langle \\psi \\middle| H \\middle| \\psi \\right\\rangle = \\frac{1}{N}\\sum_n \\sum_m e^{i\\left( m-n \\right)ka} \\left\\langle \\phi_n \\right| \\left[ \\sum_n \\epsilon \\left| \\phi_n \\right\\rangle \\left\\langle \\phi_n \\right| -t \\left( \\left| \\phi_n \\right\\rangle \\left\\langle \\phi_{n+1} \\right| + \\left| \\phi_n \\right\\rangle \\left\\langle \\phi_{n-1} \\right| \\right) \\right] \\left| \\phi_m \\right\\rangle$$\n",
    "\n",
    "$$E\\left( k \\right) = \\frac{1}{N} \\sum_n \\sum_m e^{i\\left( m - n \\right) ka}\\left[ \\sum_n \\epsilon \\left\\langle \\phi_n \\middle| \\phi_m \\right\\rangle -t\\left( \\left\\langle \\phi_{n+1} \\middle| \\phi_m \\right\\rangle + \\left\\langle \\phi_{n-1} \\middle| \\phi_m \\right\\rangle \\right) \\right]$$\n",
    "\n",
    "$$E\\left( k \\right) = \\frac{1}{N} \\sum_n \\sum_m e^{i\\left( m - n \\right) ka} \\left[ \\epsilon \\delta_{nm} -t \\left( \\delta_{n-1,m} + \\delta_{n+1,m} \\right) \\right]$$\n",
    "\n",
    "$$E\\left(k\\right)= \\frac{1}{N} \\sum_n \\epsilon - t \\left( e^{ika} + e^{-ika} \\right)$$\n",
    "\n",
    "$$E\\left(k\\right) = \\epsilon - 2t\\cos{ka}$$"
   ]
  },
  {
   "cell_type": "code",
   "execution_count": 2,
   "metadata": {},
   "outputs": [
    {
     "data": {
      "application/vnd.jupyter.widget-view+json": {
       "model_id": "1956dae6e7b647638b8727d0f908b79c",
       "version_major": 2,
       "version_minor": 0
      },
      "text/plain": [
       "interactive(children=(FloatSlider(value=-1.0, description='t:', max=2.0, min=-2.0), FloatSlider(value=1.0, des…"
      ]
     },
     "metadata": {},
     "output_type": "display_data"
    },
    {
     "data": {
      "text/plain": [
       "<function __main__.f(t, a)>"
      ]
     },
     "execution_count": 2,
     "metadata": {},
     "output_type": "execute_result"
    }
   ],
   "source": [
    "import numpy as np\n",
    "import matplotlib.pyplot as plt\n",
    "from ipywidgets import interact, FloatSlider\n",
    "from numpy import pi, cos\n",
    "def f(t,a):\n",
    "    fig, ax = plt.subplots()\n",
    "    k = np.linspace(-pi/a,pi/a,100)\n",
    "    E = 2*t*cos(k*a)\n",
    "    plt.plot(k,E)\n",
    "    plt.ylabel('E')\n",
    "    plt.xlabel('k')\n",
    "    plt.ylim(-4,4)\n",
    "    plt.xlim(-pi,pi)\n",
    "    ax.tick_params(axis='both', direction='in')\n",
    "    plt.show()\n",
    "\n",
    "interactive_plot = interact(f, t=FloatSlider(value=-1,min=-2, max=2, step=0.1,description='t:'),\n",
    "                            a=FloatSlider(value=1,min=0.5, max=1, step=0.05,description='a:'))\n",
    "interactive_plot"
   ]
  },
  {
   "cell_type": "code",
   "execution_count": null,
   "metadata": {},
   "outputs": [],
   "source": []
  },
  {
   "cell_type": "code",
   "execution_count": 4,
   "metadata": {
    "scrolled": false
   },
   "outputs": [
    {
     "data": {
      "application/vnd.jupyter.widget-view+json": {
       "model_id": "cef310c93204493b889469bb09f5a03c",
       "version_major": 2,
       "version_minor": 0
      },
      "text/plain": [
       "interactive(children=(FloatSlider(value=6.0, description='$\\\\epsilon_{1s}$:', max=6.0), FloatSlider(value=0.0,…"
      ]
     },
     "metadata": {},
     "output_type": "display_data"
    },
    {
     "data": {
      "text/plain": [
       "<function __main__.f(eps1, eps2, t11, t22, t12, a)>"
      ]
     },
     "execution_count": 4,
     "metadata": {},
     "output_type": "execute_result"
    }
   ],
   "source": [
    "import numpy as np\n",
    "import matplotlib.pyplot as plt\n",
    "from ipywidgets import interact, FloatSlider\n",
    "from numpy import pi, cos, sqrt, sin\n",
    "\n",
    "def f(eps1, eps2, t11, t22, t12, a):\n",
    "    fig, ax = plt.subplots()\n",
    "    k = np.linspace(-pi/a,pi/a,100)\n",
    "    coska = cos(k*a)\n",
    "    H11 = eps1 + 2*t11*coska\n",
    "    H22 = eps2 + 2*t22*coska\n",
    "    H12 = 2*t12*coska\n",
    "    E1 = (H11+H22)/2 - sqrt(1/4*(H11 - H22)**2 + H12**2)\n",
    "    E2 = (H11+H22)/2 + sqrt(1/4*(H11 - H22)**2 + H12**2)\n",
    "    plt.plot(k,E1)\n",
    "    plt.plot(k,E2)\n",
    "    plt.ylabel('E')\n",
    "    plt.xlabel('k')\n",
    "    plt.ylim(-14,19)\n",
    "    plt.xlim(-pi,pi)\n",
    "    ax.tick_params(axis='both', direction='in')\n",
    "    plt.show()\n",
    "\n",
    "interactive_plot = interact(f, eps1=FloatSlider(value=6, min=0, max=6, step=0.1, description='$\\epsilon_{1s}$:'),\n",
    "                            eps2=FloatSlider(value=0, min=0, max=6, step=0.1, description='$\\epsilon_{2s}$:'),\n",
    "                            t11=FloatSlider(value=1.5,min=-3, max=3, step=0.1,description='$t_{11}$:'),\n",
    "                            t22=FloatSlider(value=-1.5,min=-3, max=3, step=0.1,description='$t_{22}$:'),\n",
    "                            t12=FloatSlider(value=0,min=0, max=3, step=0.1,description='$t_{12}$:'),\n",
    "                            a=FloatSlider(value=1.0,min=0.5, max=1, step=0.05,description='a:'))\n",
    "interactive_plot"
   ]
  },
  {
   "cell_type": "markdown",
   "metadata": {},
   "source": [
    "### Tight-Binding in 3D\n",
    "\n",
    "In general the model Hamiltonian is constructed phenomenologically, but it will retain the tight-binding features in which the diagonal elements are the orbital occupation energies, and off diagonal elements will be nonzero only for set of neighbors for which the hopping is relevant. The LCAO expansion of the wavefunction in higher spatial dimensions can be written as\n",
    "\n",
    "$$\\psi_k\\left( \\bf{r} \\right) = \\frac{1}{\\sqrt{N}}\\sum_{\\bf{R}} e^{i\\bf{k}\\cdot\\bf{R}} \\phi(\\bf{r} - \\bf{R})$$\n",
    "\n",
    "The band dispersion is again given by the expectation value. That is\n",
    "\n",
    "$$E\\left(\\bf{k} \\right) = \\int \\psi_k^*\\left(\\bf{r}\\right) H \\psi_k \\left( \\bf{r} \\right) d\\bf{r}$$\n",
    "\n",
    "substituting the LCAO expansion for $\\psi_k$\n",
    "\n",
    "$$E\\left(\\bf{k}\\right) = \\frac{1}{N} \\sum_{\\bf{R}} \\sum_{\\bf{R}'} e^{i \\bf{k}\\cdot\\left(\\bf{R}'-\\bf{R}\\right)} \\int \\phi^*\\left(\\bf{r}-\\bf{R}\\right)H\\phi\\left(\\bf{r}-\\bf{R}'\\right) d\\bf{r}.$$\n",
    "\n",
    "The sum can be simplified by relabeling the variables. Namely, let $\\bf{x} = \\bf{r}-\\bf{R}$. \n",
    "\n",
    "$$E\\left(\\bf{k}\\right) = \\frac{1}{N} \\sum_{\\bf{R}} \\sum_{\\bf{R}'} e^{i \\bf{k}\\cdot\\left(\\bf{R}'-\\bf{R}\\right)} \\int  \\phi^*\\left(\\bf{x}\\right)H\\phi\\left(\\bf{x}+\\bf{R}-\\bf{R}'\\right) d\\bf{x}$$\n",
    "\n",
    "Now, the sum over $\\bf{R}'$ is equivalent to a sum over $\\bf{R}_N = \\bf{R} - \\bf{R}'$.\n",
    "\n",
    "$$E\\left(\\bf{k}\\right) = \\frac{1}{N} \\sum_{\\bf{R}} \\sum_{\\bf{R}_N} e^{i \\bf{k}\\cdot\\bf{R}_N} \\int \\phi^*\\left(\\bf{x}\\right)H\\phi\\left(\\bf{x}-\\bf{R}_N\\right) d\\bf{x}$$\n",
    "\n",
    "The sum over $\\bf{R}$ is empty, summing to $N$.\n",
    "\n",
    "$$E\\left(\\bf{k}\\right) = \\sum_{\\bf{R}_N} e^{i \\bf{k}\\cdot\\bf{R}_N} \\int \\phi^*\\left(\\bf{x}\\right)H\\phi\\left(\\bf{x}-\\bf{R}_N\\right) d\\bf{x}$$\n",
    "\n",
    "The integrand can be split into two terms, when $\\bf{R}_N = 0$ and when $\\bf{R}_N \\ne 0$.\n",
    "\n",
    "$$E\\left(\\bf{k}\\right) = \\int \\phi^*\\left(\\bf{x}\\right)H\\phi\\left(\\bf{x}\\right) d\\bf{x} + \\sum_{\\bf{R}_N \\ne 0} e^{i \\bf{k}\\cdot\\bf{R}_N} \\int \\phi^*\\left(\\bf{x}\\right)H\\phi\\left(\\bf{x}-\\bf{R}_N\\right) d\\bf{x}$$\n",
    "\n",
    "The first integral evaluates as $\\epsilon$. The second integral, however, will not be evaluated. Instead, the overlap inegral is related to the electron hopping and will be assigned a phenomenological value expressed as\n",
    "\n",
    "$$t\\left[{R}_N\\right] = - \\int \\phi^*\\left(\\bf{x}\\right)H\\phi\\left(\\bf{x}-\\bf{R}_N\\right) d\\bf{x},$$\n",
    "\n",
    "in which the hopping parameter, $t\\left[{R}_N\\right]$, is now written as a functional in the most general case to allow for anisotropic hopping. Using the simplifications the energy dispersion can be written compactly.\n",
    "\n",
    "$$E\\left(\\bf{k}\\right) = \\epsilon - \\sum_{\\bf{R}_N}t\\left[\\bf{R}_N\\right]e^{i \\bf{k}\\cdot\\bf{R}_N}$$"
   ]
  },
  {
   "cell_type": "code",
   "execution_count": 7,
   "metadata": {},
   "outputs": [
    {
     "data": {
      "application/vnd.jupyter.widget-view+json": {
       "model_id": "19e5c0abb89d41b1a61e3235e3769908",
       "version_major": 2,
       "version_minor": 0
      },
      "text/plain": [
       "interactive(children=(FloatSlider(value=2.0, description='t:', max=2.0, min=0.5), FloatSlider(value=0.5, descr…"
      ]
     },
     "metadata": {},
     "output_type": "display_data"
    },
    {
     "data": {
      "text/plain": [
       "<function __main__.f(t, a)>"
      ]
     },
     "execution_count": 7,
     "metadata": {},
     "output_type": "execute_result"
    }
   ],
   "source": [
    "import numpy as np\n",
    "import matplotlib.pyplot as plt\n",
    "from ipywidgets import interact, FloatSlider\n",
    "from numpy import pi, cos\n",
    "\n",
    "def f(t,a):\n",
    "    \n",
    "    fig, ax = plt.subplots()\n",
    "    \n",
    "    kx = np.linspace(0,2*pi/a,100)\n",
    "    ky = np.linspace(0,2*pi/a,100)\n",
    "    kz = np.linspace(0,2*pi/a,100)\n",
    "    \n",
    "    def g(kx,ky,kz):\n",
    "        return -2*t*(cos(kx*a) + cos(ky*a) + cos(kz*a))\n",
    "    \n",
    "    \n",
    "    E = g(0,ky/2,0)\n",
    "    plt.plot(-ky/2,E)\n",
    "    \n",
    "    E = g(kx/2,ky/2,0)\n",
    "    plt.plot(ky/2,E)\n",
    "    \n",
    "    E = g(pi/a,pi/a,kz/2)\n",
    "    plt.plot(pi/a+ky/2,E)\n",
    "    \n",
    "    E = g(pi/a-kx/2,pi/a-ky/2,pi-kz/2)\n",
    "    plt.plot(2*pi/a+ky/2,E)\n",
    "\n",
    "    plt.ylabel('E')\n",
    "    plt.xlabel('k')\n",
    "    plt.ylim(-12.2,12.2)\n",
    "    plt.xlim(-pi,3*pi)\n",
    "    ax.tick_params(axis='both', direction='in')\n",
    "    plt.show()\n",
    "\n",
    "interactive_plot = interact(f, t=FloatSlider(value=2,min=0.5, max=2, step=0.1,description='t:'),\n",
    "                            a=FloatSlider(value=0,min=0.5, max=1, step=0.05,description='a:'))\n",
    "interactive_plot"
   ]
  },
  {
   "cell_type": "code",
   "execution_count": null,
   "metadata": {},
   "outputs": [],
   "source": []
  },
  {
   "cell_type": "code",
   "execution_count": 11,
   "metadata": {},
   "outputs": [
    {
     "data": {
      "application/vnd.jupyter.widget-view+json": {
       "model_id": "6140c96a20194618bcf32f2f985e8c51",
       "version_major": 2,
       "version_minor": 0
      },
      "text/plain": [
       "interactive(children=(FloatSlider(value=2.0, description='t:', max=2.0, min=0.5), FloatSlider(value=0.5, descr…"
      ]
     },
     "metadata": {},
     "output_type": "display_data"
    },
    {
     "data": {
      "text/plain": [
       "<function __main__.f(t, a)>"
      ]
     },
     "execution_count": 11,
     "metadata": {},
     "output_type": "execute_result"
    }
   ],
   "source": [
    "import numpy as np\n",
    "import matplotlib.pyplot as plt\n",
    "from ipywidgets import interact, FloatSlider\n",
    "from numpy import pi, cos\n",
    "\n",
    "def f(t,a):\n",
    "    \n",
    "    fig, ax = plt.subplots()\n",
    "    \n",
    "    kx = np.linspace(0,2*pi/a,100)\n",
    "    ky = np.linspace(0,2*pi/a,100)\n",
    "    kz = np.linspace(0,2*pi/a,100)\n",
    "    \n",
    "    def g(kx,ky,kz):\n",
    "        return -4*t*(cos(kx*a/2)*cos(ky*a/2) + cos(ky*a/2)*cos(kz*a/2) + cos(kz*a/2)*cos(kx*a/2))\n",
    "    \n",
    "    E = g(kx/2,ky/2,kz/2)\n",
    "    plt.plot(-ky/2,E)\n",
    "    \n",
    "    E = g(0,ky,0)\n",
    "    plt.plot(ky/2,E)\n",
    "    \n",
    "    E = g(kx/4,2*pi/a,kz/4)\n",
    "    plt.plot(pi/a+ky/2,E)\n",
    "    \n",
    "    E = g(pi/a/2+kx/2,2*pi/a-ky/4,pi/a/2-kz/4)\n",
    "    plt.plot(2*pi/a+ky/2,E)\n",
    "    \n",
    "    E = g(3/2*pi/a-3/2*kx/2,3/2*pi/a-3/2*ky/2,0)\n",
    "    plt.plot(3*pi/a+ky/2,E)\n",
    "    \n",
    "    plt.ylabel('E')\n",
    "    plt.xlabel('k')\n",
    "    plt.ylim(-24.2,8.5)\n",
    "    plt.xlim(-pi,4*pi)\n",
    "    ax.tick_params(axis='both', direction='in')\n",
    "    plt.show()\n",
    "\n",
    "interactive_plot = interact(f, t=FloatSlider(value=2,min=0.5, max=2, step=0.1,description='t:'),\n",
    "                            a=FloatSlider(value=0.5,min=0.5, max=1, step=0.05,description='a:'))\n",
    "interactive_plot"
   ]
  },
  {
   "cell_type": "code",
   "execution_count": null,
   "metadata": {},
   "outputs": [],
   "source": []
  },
  {
   "cell_type": "code",
   "execution_count": null,
   "metadata": {},
   "outputs": [],
   "source": []
  }
 ],
 "metadata": {
  "kernelspec": {
   "display_name": "Python 3",
   "language": "python",
   "name": "python3"
  },
  "language_info": {
   "codemirror_mode": {
    "name": "ipython",
    "version": 3
   },
   "file_extension": ".py",
   "mimetype": "text/x-python",
   "name": "python",
   "nbconvert_exporter": "python",
   "pygments_lexer": "ipython3",
   "version": "3.7.6"
  }
 },
 "nbformat": 4,
 "nbformat_minor": 4
}
