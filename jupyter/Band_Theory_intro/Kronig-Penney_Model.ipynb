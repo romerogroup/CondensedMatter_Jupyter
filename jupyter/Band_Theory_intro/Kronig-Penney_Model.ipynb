{
 "cells": [
  {
   "cell_type": "markdown",
   "metadata": {},
   "source": [
    "# The Origin of Electronic Bands and the Band Gap."
   ]
  },
  {
   "cell_type": "markdown",
   "metadata": {},
   "source": [
    "\\begin{equation}\n",
    "V(x) = -\\alpha \\sum_{n=0}^{N-1} \\delta(x-na)\n",
    "\\end{equation}\n",
    "\n",
    "\\begin{equation}\n",
    "\\psi(x) = \\frac{1}{N}\\sum_{n=0}^{N-1}c_n e^{-\\kappa|x-na|}\n",
    "\\end{equation}\n",
    "\n",
    "\\begin{equation}\n",
    "\\psi_0(x) = Ae^{\\kappa x} + Be^{- \\kappa x}\n",
    "\\end{equation}\n",
    "\n",
    "\\begin{equation}\n",
    "\\psi_1(x) = e^{iqa}\\psi_0(x-a)\n",
    "\\end{equation}\n",
    "\n",
    "\\begin{equation}\n",
    "\\psi_1(x) = e^{iqa}\\left[ Ae^{\\kappa (x - a)} + Be^{- \\kappa (x - a)} \\right]\n",
    "\\end{equation}\n",
    "\n",
    "\\begin{equation}\n",
    "\\psi_0(a) = \\psi_1(a)\n",
    "\\end{equation}\n",
    "\n",
    "\\begin{equation}\n",
    "Ae^{\\kappa a} + Be^{- \\kappa a} = e^{iqa}\\left( A + B \\right)\n",
    "\\end{equation}\n",
    "\n",
    "\\begin{equation}\n",
    "\\Delta \\psi'(a) = -\\frac{2m\\alpha}{\\hbar^2}\\psi(a)\n",
    "\\end{equation}\n",
    "\n",
    "\\begin{equation}\n",
    "\\kappa e^{iqa}(A - B) - \\kappa \\left( Ae^{\\kappa a} - Be^{-\\kappa a} \\right) = - \\frac{2m\\alpha}{\\hbar^2} \\left( Ae^{\\kappa a} + Be^{-\\kappa a} \\right)\n",
    "\\end{equation}\n",
    "\n",
    "\\begin{equation}\n",
    "\\left[ e^{iqa} - e^{\\kappa a} \\right]A + \\left[ e^{iqa} - e^{- \\kappa a} \\right]B=0 \\\\\n",
    "\\left[ \\kappa \\left( e^{iqa} - e^{\\kappa a} \\right) + \\frac{2m\\alpha}{\\hbar^2}e^{\\kappa a}\\right]A +\n",
    "\\left[- \\kappa \\left( e^{iqa} - e^{- \\kappa a} \\right) + \\frac{2m\\alpha}{\\hbar^2}e^{- \\kappa a}\\right]B=0\n",
    "\\end{equation}\n",
    "\n",
    "\\begin{equation}\n",
    "\\left|\n",
    "\\begin{array}{cc} \n",
    "e^{iqa} - e^{\\kappa a} &  e^{iqa} - e^{- \\kappa a} \\\\\n",
    "\\kappa \\left( e^{iqa} - e^{\\kappa a} \\right) + \\frac{2m\\alpha}{\\hbar^2}e^{\\kappa a} & \n",
    "-\\kappa \\left( e^{iqa} - e^{- \\kappa a} \\right) + \\frac{2m\\alpha}{\\hbar^2}e^{- \\kappa a}\n",
    "\\end{array}\n",
    "\\right| = 0\n",
    "\\end{equation}\n",
    "\n",
    "\\begin{equation}\n",
    "-2\\kappa \\left( e^{2iqa} + 1 - 2e^{iqa}\\cosh(\\kappa a)\\right) + \\frac{4m\\alpha}{\\hbar^2}\\sinh(\\kappa a) = 0\n",
    "\\end{equation}\n",
    "\n",
    "\\begin{equation}\n",
    "-2\\kappa \\left( e^{iqa} + e^{-iqa} - 2\\cosh(\\kappa a)\\right) + \\frac{4m\\alpha}{\\hbar^2}\\sinh(\\kappa a) = 0\n",
    "\\end{equation}\n",
    "\n",
    "\\begin{equation}\n",
    "\\cos(qa) = \\cosh(\\kappa a)\\ + \\frac{m\\alpha}{\\kappa\\hbar^2}\\sinh(\\kappa a)\n",
    "\\end{equation}\n",
    "\n",
    "\\begin{equation}\n",
    "\\cos(qa) = \\cos(k a)\\ + \\beta\\frac{\\sin(k a)}{k}\n",
    "\\end{equation}"
   ]
  },
  {
   "cell_type": "code",
   "execution_count": 1,
   "metadata": {},
   "outputs": [
    {
     "data": {
      "application/vnd.jupyter.widget-view+json": {
       "model_id": "269ddbf581f14cc384abfeffdf2f6ccc",
       "version_major": 2,
       "version_minor": 0
      },
      "text/plain": [
       "interactive(children=(FloatSlider(value=0.0, description='$\\\\beta$:', max=10.0, step=0.5), FloatSlider(value=1…"
      ]
     },
     "metadata": {},
     "output_type": "display_data"
    },
    {
     "data": {
      "text/plain": [
       "<function __main__.f(B, a)>"
      ]
     },
     "execution_count": 1,
     "metadata": {},
     "output_type": "execute_result"
    }
   ],
   "source": [
    "import numpy as np\n",
    "import matplotlib.pyplot as plt\n",
    "from ipywidgets import interact, FloatSlider\n",
    "from numpy import pi\n",
    "\n",
    "def f(B,a):\n",
    "    fig, ax = plt.subplots()\n",
    "    k = np.linspace(-pi/a,pi/a,500)\n",
    "    E = np.linspace(0,20,500)\n",
    "    [X,Y] = np.meshgrid(k,E)\n",
    "    Z = np.cos(X*a) - B*0.1*np.sinc(np.sqrt(Y)*a*1.75) - np.cos(np.sqrt(Y)*a*1.75)\n",
    "    #print(k)\n",
    "    #print(E)\n",
    "    #print(g(k,E))\n",
    "    plt.contour(X,Y,Z,[0])\n",
    "    plt.xlabel('k')\n",
    "    plt.ylabel('Energy')\n",
    "    ax.tick_params(axis='both', direction='in')\n",
    "    plt.show()   \n",
    "\n",
    "interactive_plot = interact(f, B=FloatSlider(value=0,min=0, max=10, step=0.5,description='$\\\\beta$:'), a=FloatSlider(value=1, min=0.25, max=3, step=0.25, description='a:'))\n",
    "interactive_plot"
   ]
  },
  {
   "cell_type": "markdown",
   "metadata": {},
   "source": []
  }
 ],
 "metadata": {
  "kernelspec": {
   "display_name": "Python 3",
   "language": "python",
   "name": "python3"
  },
  "language_info": {
   "codemirror_mode": {
    "name": "ipython",
    "version": 3
   },
   "file_extension": ".py",
   "mimetype": "text/x-python",
   "name": "python",
   "nbconvert_exporter": "python",
   "pygments_lexer": "ipython3",
   "version": "3.7.6"
  }
 },
 "nbformat": 4,
 "nbformat_minor": 4
}
