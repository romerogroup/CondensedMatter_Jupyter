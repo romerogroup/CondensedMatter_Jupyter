{
 "cells": [
  {
   "cell_type": "markdown",
   "metadata": {},
   "source": [
    "# Approximating the Hydrogen Atom"
   ]
  },
  {
   "cell_type": "markdown",
   "metadata": {},
   "source": [
    "Since the Schrodinger equation is only exactly solvable for few cases, we need a simple and generalizable approximation to the electronic bound states to approach the electronic structure of complicated systems of atoms. In general the N-body Coulomb potential sets the scale for the difficulty of the problem. Therefore, focusing on simpifying the functional form of the potential could be a good approach.\n",
    "\n",
    "The bound state of the hydrogen atom due to the attractive Coulomb potential is exactly solveable. So the approximation should be in line with the ground state solution of the H atom.\n",
    "\n",
    "Plotting the Coulomb potential in 1D, gives insight into pseuedopotentials that can approximate the attraction. At the least, the model potential needs to exhibit the same qualitative behavior as the Coulomb potential. That is, the function should tend toward zero as the electron moves away from the proton, and it should have some negative value near the proton. Example potentials are the the Gaussian well, square well, and the Dirac delta well."
   ]
  },
  {
   "cell_type": "code",
   "execution_count": 1,
   "metadata": {},
   "outputs": [
    {
     "data": {
      "application/vnd.jupyter.widget-view+json": {
       "model_id": "163fcc40884b43699210929bf143d695",
       "version_major": 2,
       "version_minor": 0
      },
      "text/plain": [
       "interactive(children=(FloatSlider(value=0.5, description='$\\\\alpha$:', max=3.0, min=0.5), Output()), _dom_clas…"
      ]
     },
     "metadata": {},
     "output_type": "display_data"
    },
    {
     "data": {
      "text/plain": [
       "<function __main__.potential(alpha)>"
      ]
     },
     "execution_count": 1,
     "metadata": {},
     "output_type": "execute_result"
    }
   ],
   "source": [
    "import matplotlib.pyplot as plt\n",
    "import numpy as np\n",
    "from ipywidgets import interact, FloatSlider\n",
    "\n",
    "x = np.linspace(-5,5,200)\n",
    "x0 = np.linspace(-5,5,201)\n",
    "    \n",
    "def coulomb(alpha,x):\n",
    "    return -alpha/np.abs(x)\n",
    "\n",
    "def square(alpha,x):\n",
    "    sqrfunc = []\n",
    "    for i in range(len(x)):\n",
    "        if -alpha/4 < x[i] < alpha/4:\n",
    "            sqrfunc.append(-alpha)\n",
    "        else:\n",
    "            sqrfunc.append(0)\n",
    "    return sqrfunc\n",
    "    \n",
    "def gauss(alpha,x):\n",
    "    return -alpha*np.exp(-x**2/0.5)\n",
    "\n",
    "def delta(alpha,x):\n",
    "    dfunc = []\n",
    "    for i in range(len(x)):\n",
    "        if x[i] == 0:\n",
    "            dfunc.append(-alpha)\n",
    "        else:\n",
    "            dfunc.append(0)\n",
    "    return dfunc\n",
    "    \n",
    "def potential(alpha):\n",
    "    plt.plot(x,coulomb(alpha,x),color='dodgerblue')\n",
    "    plt.plot(x,square(alpha,x),'indigo')\n",
    "    plt.plot(x,gauss(alpha,x),color='green')\n",
    "    plt.plot(x0,delta(alpha,x0),color='orangered')\n",
    "    \n",
    "    plt.xlim(-5,5)\n",
    "    plt.ylim(-3,1.5)\n",
    "    plt.axhline(color='black')\n",
    "    plt.ylabel('Energy')\n",
    "    plt.xlabel('Position')\n",
    "\n",
    "interactive_plot = interact(potential, alpha=FloatSlider(value=0.5,min=0.5, max=3., step=0.1,description='$\\\\alpha$:'), a=FloatSlider(value=1, min=0.5, max=3, step=0.25, description='a:'))\n",
    "interactive_plot"
   ]
  },
  {
   "cell_type": "markdown",
   "metadata": {},
   "source": [
    "While any potential well yields bound states, the $\\delta$ potential is the simplest to consider mathematically due to its analytical properties.\n",
    "\n",
    "\\begin{equation}\n",
    "\\left( \\frac{\\hbar^2}{2m}\\frac{d^2}{dx^2} + \\alpha \\delta(x) \\right) \\psi = -E\\psi\n",
    "\\end{equation}\n",
    "\n",
    "To the left or right the delta potential, the potential is zero. Then the wavefunction must obey\n",
    "\n",
    "\\begin{equation}\n",
    "\\frac{\\hbar^2}{2m}\\frac{d^2}{dx^2} \\psi = -k^2\\psi\n",
    "\\end{equation}\n",
    "\n",
    "where $k = \\sqrt{\\frac{2mE}{\\hbar^2}}$. If there are bound state solutions, then $E<0$. So the wave number can be written as $\\kappa = i\\sqrt{\\frac{2m|E|}{\\hbar^2}} = ik$. The equation becomes\n",
    "\n",
    "\\begin{equation}\n",
    "\\frac{\\hbar^2}{2m}\\frac{d^2}{dx^2} \\psi = \\kappa^2\\psi\n",
    "\\end{equation}\n",
    "\n",
    "Therefore the wavefunction to the left and right of the potential is\n",
    "\n",
    "\n",
    "\\begin{equation}\n",
    "\\psi_L(x) = Ae^{\\kappa x} + Be^{- \\kappa x} \\\\\n",
    "\\psi_R(x) = Ce^{\\kappa x} + De^{- \\kappa x} \n",
    "\\end{equation}\n",
    "\n",
    "The wavefunction must be finite at infinity, therefore $B = C = 0$\n",
    "\n",
    "Requiring that the wavefunction is continuous at $x=0$,\n",
    "\n",
    "\\begin{equation}\n",
    "\\psi(0) = \\psi_L(0) = \\psi_R(0) = A = D\n",
    "\\end{equation}\n",
    "\n",
    "Another expression can be found by integrating the Schrodinger equation around $x=0$ and taking the limit.\n",
    "\n",
    "\\begin{equation}\n",
    "\\lim_{\\epsilon\\to 0} \\left[\\frac{\\hbar^2}{2m}\\int_{-\\epsilon}^{\\epsilon}\\frac{d^2}{dx^2}\\psi(x)dx + \\alpha \\int_{-\\epsilon}^{\\epsilon}\\delta(x)\\psi(x)dx = -E \\int_{-\\epsilon}^{\\epsilon}\\psi(x)dx \\right]\n",
    "\\end{equation}\n",
    "\n",
    "Evaluating the integrals gives\n",
    "\n",
    "\\begin{equation}\n",
    "\\lim_{\\epsilon\\to 0}\\left[\\frac{\\hbar^2}{2m}\\left(\\psi'(\\epsilon)-\\psi'(- \\epsilon)\\right) + \\alpha\\psi(0)\\right] = 0\n",
    "\\end{equation}\n",
    "\n",
    "Now evaluating the limit,\n",
    "\n",
    "\\begin{equation}\n",
    "\\frac{\\hbar^2}{2m}\\left(\\psi_R'(0) - \\psi_L'(0)\\right) = -\\alpha\\psi(0)\\\\\n",
    "\\end{equation}\n",
    "\n",
    "Or more generally,\n",
    "\n",
    "\\begin{equation}\n",
    "\\Delta\\psi'(x_0) = -\\frac{2m\\alpha}{\\hbar^2}\\psi(x_0)\\\\\n",
    "\\end{equation}\n",
    "\n",
    "Substituting $\\psi_L(x) = Ae^{\\kappa x}$, $\\psi_R(x) = De^{- \\kappa x}$, and $\\psi(0) = A$,\n",
    "\n",
    "\\begin{equation}\n",
    "\\kappa D + \\kappa A = -\\frac{2m\\alpha}{\\hbar^2} A, \\\\\n",
    "\\kappa = -\\frac{m\\alpha}{\\hbar^2}\n",
    "\\end{equation}\n",
    "\n",
    "Recalling the relationship $\\kappa = i\\sqrt{\\frac{2m|E|}{\\hbar^2}}$, the energy can be expressed as\n",
    "\n",
    "\\begin{equation}\n",
    "\\left(\\frac{-m\\alpha}{\\hbar^2}\\right)^2 = - \\frac{2mE}{\\hbar^2}, \\\\\n",
    "E = -\\frac{m\\alpha^2}{2\\hbar^2}\n",
    "\\end{equation}\n",
    "\n",
    "The result shows that there is exactly 1 bound state for the delta potential. For completeness, A follows from the normalization condition\n",
    "\n",
    "\\begin{equation}\n",
    "\\int_{-\\infty}^{\\infty}\\left|\\psi(x)\\right|^2 dx = |A|^2\\int_{-\\infty}^{\\infty} e^{-2\\kappa|x|} dx = 2|A|^2\\int_{0}^{\\infty} e^{-2\\kappa x} dx = \\frac{|A|^2}{\\kappa} = 1 \\\\\n",
    "A = \\sqrt{\\kappa}\n",
    "\\end{equation}\n",
    "\n",
    "So in atomic units where $m=\\hbar$ = 1, the bound electronic wavefunction is\n",
    "\n",
    "\\begin{equation}\n",
    "\\psi(x)  = \\sqrt{-\\alpha}e^{-\\alpha|x|}\n",
    "\\end{equation}\n",
    "\n",
    "With a ground state energy of\n",
    "\n",
    "\\begin{equation}\n",
    "E = \\frac{-\\alpha^2}{2}\n",
    "\\end{equation}\n",
    "\n",
    "The wavefunction has the same positional dependence as the exactly solved hydrogen atom, justifying the approximation. Plotting the wavefunction, bounds state energy, and pseudopotential offers insight into the dependence on the strength of the ineraction."
   ]
  },
  {
   "cell_type": "code",
   "execution_count": 3,
   "metadata": {},
   "outputs": [
    {
     "data": {
      "application/vnd.jupyter.widget-view+json": {
       "model_id": "b10e4bfd25a14be18308d3d14f28a1d0",
       "version_major": 2,
       "version_minor": 0
      },
      "text/plain": [
       "interactive(children=(FloatSlider(value=0.5, description='$\\\\alpha$:', max=3.0, min=0.5), Output()), _dom_clas…"
      ]
     },
     "metadata": {},
     "output_type": "display_data"
    },
    {
     "data": {
      "text/plain": [
       "<function __main__.Hatom(alpha)>"
      ]
     },
     "execution_count": 3,
     "metadata": {},
     "output_type": "execute_result"
    }
   ],
   "source": [
    "def Hatom(alpha):\n",
    "    wavefunc = np.sqrt(alpha)*np.exp(-alpha*np.abs(x))\n",
    "    plt.plot(x,wavefunc,color='dodgerblue')\n",
    "    plt.plot(x0,delta(alpha,x0),color='orangered')\n",
    "\n",
    "    E = -alpha**2/2\n",
    "    plt.axhline(y=E, color='dodgerblue', linestyle='--')\n",
    "    plt.xlim(-5,5)\n",
    "    plt.ylim(-3,1.5)\n",
    "    plt.ylabel('Energy')\n",
    "    plt.xlabel('Position')\n",
    "\n",
    "interactive_plot = interact(Hatom, alpha=FloatSlider(value=0.5,min=0.5, max=3., step=0.1,description='$\\\\alpha$:'), a=FloatSlider(value=1, min=0.5, max=3, step=0.25, description='a:'))\n",
    "interactive_plot"
   ]
  },
  {
   "cell_type": "code",
   "execution_count": null,
   "metadata": {},
   "outputs": [],
   "source": []
  }
 ],
 "metadata": {
  "kernelspec": {
   "display_name": "Python 3",
   "language": "python",
   "name": "python3"
  },
  "language_info": {
   "codemirror_mode": {
    "name": "ipython",
    "version": 3
   },
   "file_extension": ".py",
   "mimetype": "text/x-python",
   "name": "python",
   "nbconvert_exporter": "python",
   "pygments_lexer": "ipython3",
   "version": "3.7.6"
  }
 },
 "nbformat": 4,
 "nbformat_minor": 4
}
