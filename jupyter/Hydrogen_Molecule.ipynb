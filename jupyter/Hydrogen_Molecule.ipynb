{
 "cells": [
  {
   "cell_type": "markdown",
   "metadata": {},
   "source": [
    "# Applying the Model to the H$_2$ Molecule"
   ]
  },
  {
   "cell_type": "markdown",
   "metadata": {},
   "source": [
    "Now that we have a simple and effective approximation for a hydrogen-like atom, we can apply it to systems of atoms to begin to understand the electronic structure of materials. Before considering periodic arrangements found in solids, we can further verify the approach and develop a strategy for applying it to a lattice by first considering the hydrogen molecule. The total potential for the two atom system is a separate Coulomb potential centered on each atom. Therefore, the pseudopotential will take the form of a $\\delta$ potential centered on each atom."
   ]
  },
  {
   "cell_type": "code",
   "execution_count": 16,
   "metadata": {},
   "outputs": [
    {
     "data": {
      "application/vnd.jupyter.widget-view+json": {
       "model_id": "3bde0e7cb7b74ac1a0d4f27ff284f8ca",
       "version_major": 2,
       "version_minor": 0
      },
      "text/plain": [
       "interactive(children=(FloatSlider(value=0.5, description='$\\\\alpha$:', max=3.0, min=0.5), FloatSlider(value=3.…"
      ]
     },
     "metadata": {},
     "output_type": "display_data"
    },
    {
     "data": {
      "text/plain": [
       "<function __main__.potential(alpha, a)>"
      ]
     },
     "execution_count": 16,
     "metadata": {},
     "output_type": "execute_result"
    }
   ],
   "source": [
    "import matplotlib.pyplot as plt\n",
    "import numpy as np\n",
    "from ipywidgets import interact, FloatSlider\n",
    "\n",
    "x = np.linspace(-6,6,300)\n",
    "x0 = np.linspace(-6,6,201)\n",
    "\n",
    "def coulomb(alpha,a):\n",
    "    return -alpha/np.abs(x-a/2) - alpha/np.abs(x+a/2)\n",
    "\n",
    "def delta(alpha,a):\n",
    "    dfunc = []\n",
    "    for i in range(len(x0)):\n",
    "        if a/2-0.0301 < np.abs(x0[i])< a/2+0.0299:\n",
    "            dfunc.append(-alpha)\n",
    "        else:\n",
    "            dfunc.append(0)\n",
    "    return dfunc\n",
    "    \n",
    "def potential(alpha,a):\n",
    "    plt.plot(x,coulomb(alpha,a),color='dodgerblue')\n",
    "    plt.plot(x0,delta(alpha,a),color='orangered')\n",
    "    plt.plot()\n",
    "    plt.xlim(-5,5)\n",
    "    plt.ylim(-3,1.5)\n",
    "    plt.axhline(color='black')\n",
    "    plt.ylabel('Energy')\n",
    "    plt.xlabel('Position')\n",
    "    \n",
    "interactive_plot = interact(potential, alpha=FloatSlider(value=0.5,min=0.5, max=3., step=0.1,description='$\\\\alpha$:'), a=FloatSlider(value=3, min=0.5, max=8, step=0.25, description='a:'))\n",
    "interactive_plot"
   ]
  },
  {
   "cell_type": "markdown",
   "metadata": {},
   "source": [
    "Since the potential for the molecule can be modeled through a linear combination of the atomic potentials, there is good reason to suspect that the wavefunction can be written as a linear combination as well as\n",
    "\n",
    "\\begin{equation}\n",
    "\\psi(x) = Ae^{-\\kappa|x+a/2|} + Be^{-\\kappa|x-a/2|}\n",
    "\\end{equation}\n",
    "\n",
    "Using this expression for the wavefunction, the matching condition derived for the hydrogen atom can be evaluated at $x_0 = \\pm \\frac{a}{2}$ as\n",
    "\n",
    "\\begin{equation}\n",
    "\\Delta\\psi'(x_0) = -\\frac{2m\\alpha}{\\hbar^2}\\psi(x_0)\n",
    "\\end{equation}\n",
    "\n",
    "Starting with $x = -\\frac{a}{2}$, the derivatives of the wavefunction in the two regions are\n",
    "\n",
    "\\begin{equation}\n",
    "\\psi'_\\rm{I}(x) = \\kappa\\left(Ae^{+\\kappa(x+a/2)} - Be^{-\\kappa(x-a/2)}\\right) \\\\\n",
    "\\psi'_\\rm{II}(x) = \\kappa\\left(-Ae^{-\\kappa(x+a/2)} - Be^{-\\kappa(x-a/2)}\\right)\n",
    "\\end{equation}\n",
    "\n",
    "Then the discontinuous derivative and wavefunction evaluate as\n",
    "\n",
    "\\begin{equation}\n",
    "\\Delta\\psi'(-\\frac{a}{2}) = -2\\kappa A \\\\\n",
    "\\psi(-\\frac{a}{2}) = A + Be^{-\\kappa a}\n",
    "\\end{equation}\n",
    "\n",
    "Substituting these into the matching condition gives\n",
    "\n",
    "\\begin{equation}\n",
    "-2\\kappa A = -\\frac{2m\\alpha}{\\hbar^2}\\left(A + Be^{-\\kappa a}\\right)\n",
    "\\end{equation}\n",
    "\n",
    "Then the relationship between $A$ and $B$ can be written as\n",
    "\n",
    "\\begin{equation}\n",
    "\\left( \\frac{m\\alpha}{\\hbar^2} - \\kappa \\right)A + \\left( \\frac{m\\alpha}{\\hbar^2}e^{-\\kappa a} \\right)B = 0\n",
    "\\end{equation}\n",
    "\n",
    "Following the same procedure at $x = +\\frac{a}{2}$ results in a similar expression as\n",
    "\n",
    "\\begin{equation}\n",
    "\\left( \\frac{m\\alpha}{\\hbar^2}e^{-\\kappa a} \\right)A + \\left( \\frac{m\\alpha}{\\hbar^2} - \\kappa \\right)B = 0\n",
    "\\end{equation}\n",
    "\n",
    "Here, A and B have solutions when the determinant of the coefficient matrix is 0.\n",
    "\n",
    "\\begin{equation}\n",
    "\\left| \\begin{array}{cc} \\frac{m\\alpha}{\\hbar^2} - \\kappa & \\frac{m\\alpha}{\\hbar^2}e^{-\\kappa a} \\\\\n",
    "\\frac{m\\alpha}{\\hbar^2}e^{-\\kappa a} & \\frac{m\\alpha}{\\hbar^2} - \\kappa \\end{array} \\right| = 0\n",
    "\\end{equation}\n",
    "\n",
    "Evaluating will give an expression for $\\kappa$, which in turn describes the energy levels. The determinant is\n",
    "\n",
    "\\begin{equation}\n",
    "\\left( \\frac{m\\alpha}{\\hbar^2} - \\kappa\\right)^2 + \\left( \\frac{m\\alpha}{\\hbar^2} \\right)^2 e^{-2\\kappa a} = 0\n",
    "\\end{equation}\n",
    "\n",
    "Rearranging gives a quadratic in $\\kappa$.\n",
    "\n",
    "\\begin{equation}\n",
    "\\kappa^2 - \\frac{2m\\alpha}{\\hbar^2}\\kappa + \\left(\\frac{m\\alpha}{\\hbar^2}\\right)^2 \\left[ 1 - e^{-2\\kappa a} \\right] = 0\n",
    "\\end{equation}\n",
    "\n",
    "Solving the quadratic for $\\kappa$ gives\n",
    "\n",
    "\\begin{equation}\n",
    "\\kappa = \\frac{m\\alpha}{\\hbar^2} \\pm\\frac{1}{2}\\sqrt{4\\left( \\frac{m\\alpha}{\\hbar^2} \\right)^2  -4\\left( \\frac{m\\alpha}{\\hbar^2} \\right)^2\\left[ 1 - e^{-2\\kappa a} \\right] }\n",
    "\\end{equation}\n",
    "\n",
    "which simplifies to\n",
    "\n",
    "\\begin{equation}\n",
    "\\kappa = \\frac{m\\alpha}{\\hbar^2} \\left( 1 \\pm e^{-\\kappa a} \\right)\n",
    "\\end{equation}\n",
    "\n",
    "In this case the self consistent equation for $\\kappa$ can be solved exactly using the $W$ function, which is defined through its operation as\n",
    "\n",
    "\\begin{equation}\n",
    "W(xe^{x}) = x\n",
    "\\end{equation}\n",
    "\n",
    "To utilize this operation, the equation for $\\kappa$ can be manipulated by first multiplying through by $ae^{\\kappa a}$.\n",
    "\n",
    "\\begin{equation}\n",
    "ae^{\\kappa a}\\left( \\kappa = \\frac{m\\alpha}{\\hbar^2} \\left( 1 \\pm e^{-\\kappa a} \\right) \\right)\n",
    "\\end{equation}\n",
    "\n",
    "which gives\n",
    "\n",
    "\\begin{equation}\n",
    "\\kappa ae^{\\kappa a} = \\frac{m\\alpha}{\\hbar^2}ae^{\\kappa a} \\pm \\frac{m\\alpha}{\\hbar^2}a\n",
    "\\end{equation}\n",
    "\n",
    "Regrouping terms to the left hand side\n",
    "\n",
    "\\begin{equation}\n",
    "\\left( \\kappa a - \\frac{m\\alpha}{\\hbar^2}a\\right) e^{\\kappa a} = \\pm \\frac{m\\alpha}{\\hbar^2}a\n",
    "\\end{equation}\n",
    "\n",
    "reveals that the left hand side fits the operation for the $W$ function after multipling through by $e^{-\\frac{m\\alpha}{\\hbar^2}a}$, giving\n",
    "\n",
    "\\begin{equation}\n",
    "\\left( \\kappa a - \\frac{m\\alpha}{\\hbar^2}a\\right) e^{(\\kappa a - \\frac{m\\alpha}{\\hbar^2}a)} = \\pm \\frac{m\\alpha}{\\hbar^2}ae^{-\\frac{m\\alpha}{\\hbar^2}a}\n",
    "\\end{equation}\n",
    "\n",
    "Now, applying the $W$ function gives an exact expression for $\\kappa$ as\n",
    "\n",
    "\\begin{equation}\n",
    "\\kappa_\\pm = \\frac{m\\alpha}{\\hbar^2} + \\frac{1}{a} W \\left( \\pm \\frac{m\\alpha}{\\hbar^2} a e^{-\\frac{m\\alpha}{\\hbar^2} a} \\right)\n",
    "\\end{equation}\n",
    "\n",
    "Then the energy levels and wavefunction coefficients are given by \n",
    "\n",
    "\\begin{equation}\n",
    "E_\\pm = - \\frac{\\kappa_\\pm^2}{2}\\\\\n",
    "A = \\pm B = \\frac{\\sqrt{\\kappa}}{2}\\\\\n",
    "\\end{equation}"
   ]
  },
  {
   "cell_type": "code",
   "execution_count": 17,
   "metadata": {},
   "outputs": [
    {
     "data": {
      "application/vnd.jupyter.widget-view+json": {
       "model_id": "bc9ba69ebaf745e4883f44ba8cf31aa4",
       "version_major": 2,
       "version_minor": 0
      },
      "text/plain": [
       "interactive(children=(FloatSlider(value=2.0, description='$\\\\alpha$:', max=3.0, min=0.5), FloatSlider(value=3.…"
      ]
     },
     "metadata": {},
     "output_type": "display_data"
    },
    {
     "data": {
      "text/plain": [
       "<function __main__.Hmol(alpha, a)>"
      ]
     },
     "execution_count": 17,
     "metadata": {},
     "output_type": "execute_result"
    }
   ],
   "source": [
    "from scipy import special\n",
    "import warnings\n",
    "warnings.filterwarnings('ignore')\n",
    "\n",
    "def kappam(alpha,a):\n",
    "    return alpha + 1/a*special.lambertw(z = - alpha * a * np.exp(-alpha * a))\n",
    "\n",
    "def kappap(alpha,a):\n",
    "    return alpha + 1/a*special.lambertw(z = + alpha * a * np.exp(-alpha * a))\n",
    "           \n",
    "def Em(alpha,a):\n",
    "    return - kappam(alpha,a)/2\n",
    "\n",
    "def Ep(alpha,a):\n",
    "    return - kappap(alpha,a)/2\n",
    "\n",
    "def bond(alpha,a):\n",
    "    return np.sqrt(kappam(alpha,a))/np.sqrt(2)*np.exp( - kappam(alpha,a)*np.abs(x-a/2)) + np.sqrt(kappam(alpha,a))/np.sqrt(2)*np.exp(- kappam(alpha,a)*np.abs(x+a/2))\n",
    "\n",
    "def antibond(alpha,a):\n",
    "    return np.sqrt(kappap(alpha,a))/np.sqrt(2)*np.exp(- kappap(alpha,a)*np.abs(x-a/2)) - np.sqrt(kappap(alpha,a))/np.sqrt(2)*np.exp(- kappap(alpha,a)*np.abs(x+a/2))\n",
    "\n",
    "def Hmol(alpha,a):\n",
    "    plt.plot(x,bond(alpha,a),color='dodgerblue')\n",
    "    plt.plot(x,antibond(alpha,a),'green')\n",
    "    plt.plot(x0,delta(alpha,a),color='orangered')\n",
    "    plt.axhline(y=Em(alpha,a), color='dodgerblue')\n",
    "    plt.axhline(y=Ep(alpha,a), color='green')\n",
    "    plt.xlim(-5,5)\n",
    "    plt.ylim(-3,1.5)\n",
    "    plt.ylabel('Energy')\n",
    "    plt.xlabel('Position')\n",
    "\n",
    "interactive_plot = interact(Hmol, alpha=FloatSlider(value=2,min=0.5, max=3., step=0.1,description='$\\\\alpha$:'), a=FloatSlider(value=3, min=0.5, max=8, step=0.25, description='a:'))\n",
    "interactive_plot"
   ]
  },
  {
   "cell_type": "code",
   "execution_count": null,
   "metadata": {},
   "outputs": [],
   "source": []
  }
 ],
 "metadata": {
  "kernelspec": {
   "display_name": "Python 3",
   "language": "python",
   "name": "python3"
  },
  "language_info": {
   "codemirror_mode": {
    "name": "ipython",
    "version": 3
   },
   "file_extension": ".py",
   "mimetype": "text/x-python",
   "name": "python",
   "nbconvert_exporter": "python",
   "pygments_lexer": "ipython3",
   "version": "3.7.6"
  }
 },
 "nbformat": 4,
 "nbformat_minor": 4
}
